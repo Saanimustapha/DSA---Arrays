{
  "nbformat": 4,
  "nbformat_minor": 0,
  "metadata": {
    "colab": {
      "provenance": [],
      "authorship_tag": "ABX9TyOD7SwkUJ8rYIhEM2aQLCWl",
      "include_colab_link": true
    },
    "kernelspec": {
      "name": "python3",
      "display_name": "Python 3"
    },
    "language_info": {
      "name": "python"
    }
  },
  "cells": [
    {
      "cell_type": "markdown",
      "metadata": {
        "id": "view-in-github",
        "colab_type": "text"
      },
      "source": [
        "<a href=\"https://colab.research.google.com/github/Saanimustapha/DSA---Arrays/blob/main/insertionSort.ipynb\" target=\"_parent\"><img src=\"https://colab.research.google.com/assets/colab-badge.svg\" alt=\"Open In Colab\"/></a>"
      ]
    },
    {
      "cell_type": "code",
      "execution_count": 2,
      "metadata": {
        "colab": {
          "base_uri": "https://localhost:8080/"
        },
        "id": "rRIEU8_jfmdC",
        "outputId": "32abfaa1-14cf-4d54-8138-8aca11567370"
      },
      "outputs": [
        {
          "output_type": "stream",
          "name": "stdout",
          "text": [
            "[1, 2, 4, 6, 7, 9, 13, 17]\n",
            "[1, 4, 5, 7, 8, 9, 11, 12, 16]\n"
          ]
        }
      ],
      "source": [
        "#A function go implement insertion sort\n",
        "\n",
        "def insertionSort(arr):\n",
        "  for i in range(1,len(arr)):\n",
        "    temp = arr[i]\n",
        "    j = i - 1\n",
        "    while j >=0 and temp < arr[j]:\n",
        "      arr[j+1] = arr[j]\n",
        "      j-=1\n",
        "    arr[j+1] = temp\n",
        "  return arr\n",
        "\n",
        "print(insertionSort([7,1,6,4,9,2,17,13]))\n",
        "print(insertionSort([4,9,1,5,7,12,16,11,8]))"
      ]
    },
    {
      "cell_type": "code",
      "source": [],
      "metadata": {
        "id": "c5Elpt-sgg2V"
      },
      "execution_count": null,
      "outputs": []
    }
  ]
}