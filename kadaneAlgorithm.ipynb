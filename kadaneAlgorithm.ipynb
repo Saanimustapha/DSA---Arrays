{
  "nbformat": 4,
  "nbformat_minor": 0,
  "metadata": {
    "colab": {
      "provenance": [],
      "authorship_tag": "ABX9TyP+kqA6XvuKIbxRuJdS2U+v",
      "include_colab_link": true
    },
    "kernelspec": {
      "name": "python3",
      "display_name": "Python 3"
    },
    "language_info": {
      "name": "python"
    }
  },
  "cells": [
    {
      "cell_type": "markdown",
      "metadata": {
        "id": "view-in-github",
        "colab_type": "text"
      },
      "source": [
        "<a href=\"https://colab.research.google.com/github/Saanimustapha/DSA---Arrays/blob/main/kadaneAlgorithm.ipynb\" target=\"_parent\"><img src=\"https://colab.research.google.com/assets/colab-badge.svg\" alt=\"Open In Colab\"/></a>"
      ]
    },
    {
      "cell_type": "code",
      "execution_count": null,
      "metadata": {
        "id": "itls31tIYwAR"
      },
      "outputs": [],
      "source": [
        "#kadane algorithm\n",
        "#This algorithm s used to find the maximum sum subarray"
      ]
    },
    {
      "cell_type": "code",
      "source": [
        "class Solution(object):\n",
        "  def kadane(self,nums):\n",
        "    currentSum = 0\n",
        "    maxSoFar = nums[0]\n",
        "    start = end = pointer = 0\n",
        "    for index in range(len(nums)):\n",
        "      currentSum+=nums[index]\n",
        "      if currentSum>maxSoFar:\n",
        "        maxSoFar = currentSum\n",
        "        end = index\n",
        "        start = pointer\n",
        "      elif currentSum<0:\n",
        "        currentSum = 0\n",
        "        pointer = index+1\n",
        "    return nums[start:end+1]\n",
        "\n",
        "sol = Solution()\n",
        "maxSubArr = sol.kadane([-1,4,6,-8,2,-9,-2,3])\n",
        "print(maxSubArr)"
      ],
      "metadata": {
        "colab": {
          "base_uri": "https://localhost:8080/"
        },
        "id": "HxccmVlEY3uF",
        "outputId": "c7f86b60-54d1-4a9f-cbc4-3b0108a2c04a"
      },
      "execution_count": 3,
      "outputs": [
        {
          "output_type": "stream",
          "name": "stdout",
          "text": [
            "[4, 6]\n"
          ]
        }
      ]
    },
    {
      "cell_type": "code",
      "source": [],
      "metadata": {
        "id": "BBU8QrKPaCZo"
      },
      "execution_count": null,
      "outputs": []
    }
  ]
}