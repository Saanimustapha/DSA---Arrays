{
  "nbformat": 4,
  "nbformat_minor": 0,
  "metadata": {
    "colab": {
      "provenance": [],
      "authorship_tag": "ABX9TyMHLPYTgURfvnLgdUgfu18f",
      "include_colab_link": true
    },
    "kernelspec": {
      "name": "python3",
      "display_name": "Python 3"
    },
    "language_info": {
      "name": "python"
    }
  },
  "cells": [
    {
      "cell_type": "markdown",
      "metadata": {
        "id": "view-in-github",
        "colab_type": "text"
      },
      "source": [
        "<a href=\"https://colab.research.google.com/github/Saanimustapha/DSA---Arrays/blob/main/selectionSort.ipynb\" target=\"_parent\"><img src=\"https://colab.research.google.com/assets/colab-badge.svg\" alt=\"Open In Colab\"/></a>"
      ]
    },
    {
      "cell_type": "code",
      "execution_count": 4,
      "metadata": {
        "colab": {
          "base_uri": "https://localhost:8080/"
        },
        "id": "opzFD2qhccMa",
        "outputId": "f0b7c1e8-c60d-470f-efde-a6c6c8d2dd44"
      },
      "outputs": [
        {
          "output_type": "stream",
          "name": "stdout",
          "text": [
            "[1, 4, 5, 7, 8, 9, 13, 15]\n",
            "[3, 5, 6, 8, 9, 10, 12, 17]\n"
          ]
        }
      ],
      "source": [
        "#A function to implement the selection sort algorithm\n",
        "\n",
        "def selectionSort(arr):\n",
        "  for i in range(len(arr)):\n",
        "    smallestIndex = i\n",
        "    for j in range(i+1,len(arr)):\n",
        "      if arr[j] < arr[smallestIndex]:\n",
        "        smallestIndex = j\n",
        "    temp = arr[i]\n",
        "    arr[i] = arr[smallestIndex]\n",
        "    arr[smallestIndex] = temp\n",
        "  return arr\n",
        "\n",
        "print(selectionSort([5,8,1,9,7,13,15,4]))\n",
        "print(selectionSort([10,17,3,5,8,6,9,12]))"
      ]
    },
    {
      "cell_type": "code",
      "source": [],
      "metadata": {
        "id": "MGdn53ubeRGN"
      },
      "execution_count": null,
      "outputs": []
    }
  ]
}