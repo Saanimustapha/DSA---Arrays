{
  "nbformat": 4,
  "nbformat_minor": 0,
  "metadata": {
    "colab": {
      "provenance": [],
      "authorship_tag": "ABX9TyOzKxIutub9nKNVuGYSXsaQ",
      "include_colab_link": true
    },
    "kernelspec": {
      "name": "python3",
      "display_name": "Python 3"
    },
    "language_info": {
      "name": "python"
    }
  },
  "cells": [
    {
      "cell_type": "markdown",
      "metadata": {
        "id": "view-in-github",
        "colab_type": "text"
      },
      "source": [
        "<a href=\"https://colab.research.google.com/github/Saanimustapha/DSA---Arrays/blob/main/shellSort.ipynb\" target=\"_parent\"><img src=\"https://colab.research.google.com/assets/colab-badge.svg\" alt=\"Open In Colab\"/></a>"
      ]
    },
    {
      "cell_type": "code",
      "execution_count": 2,
      "metadata": {
        "colab": {
          "base_uri": "https://localhost:8080/"
        },
        "id": "J5urXZQiijp1",
        "outputId": "23d15a58-69fa-49b1-ceda-24da5ed4c555"
      },
      "outputs": [
        {
          "output_type": "stream",
          "name": "stdout",
          "text": [
            "[2, 3, 4, 5, 6, 7, 8, 10, 12, 15]\n",
            "[0, 1, 2, 4, 7, 8, 9, 11, 14, 23]\n"
          ]
        }
      ],
      "source": [
        "#Implementing the shell sort algorithm\n",
        "\n",
        "def shellSort(arr):\n",
        "  gap = len(arr)//2\n",
        "  while gap>0:\n",
        "    for i in range(gap,len(arr)):\n",
        "      temp = arr[i]\n",
        "      j = i-gap\n",
        "      while j>=0 and temp<arr[j]:\n",
        "        arr[j+gap] = arr[j]\n",
        "        j-=gap\n",
        "      arr[j+gap] = temp\n",
        "    gap//=2\n",
        "  return arr\n",
        "\n",
        "\n",
        "sortedArr1 = shellSort([10,4,2,8,5,7,3,12,15,6])\n",
        "sortedArr2 = shellSort([4,1,8,23,7,0,9,14,11,2])\n",
        "print(sortedArr1)\n",
        "print(sortedArr2)\n",
        ""
      ]
    },
    {
      "cell_type": "code",
      "source": [],
      "metadata": {
        "id": "O3Fl6ssikNAz"
      },
      "execution_count": null,
      "outputs": []
    }
  ]
}